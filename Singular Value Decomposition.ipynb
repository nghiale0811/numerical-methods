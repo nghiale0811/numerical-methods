{
 "cells": [
  {
   "cell_type": "markdown",
   "metadata": {},
   "source": [
    "# Singlular value decomposition"
   ]
  },
  {
   "cell_type": "markdown",
   "metadata": {},
   "source": [
    "####  Unitary Matrices\n",
    "Unitary matrices have the property,\n",
    "$$\n",
    "UU^* = U^*U = I\n",
    "$$\n",
    "In other words, the transpose is the inverse.\n",
    "\n",
    "####  Diagonal Matrices\n",
    "\n",
    "$$\n",
    "\\begin{pmatrix}\n",
    "a & 0 & 0 \\\\\n",
    "0 & b & 0 \\\\\n",
    "0 & 0 & c\n",
    "\\end{pmatrix}\n",
    "\\begin{pmatrix}\n",
    "x_1 \\\\\n",
    "x_2 \\\\\n",
    "x_3\n",
    "\\end{pmatrix} = \n",
    "\\begin{pmatrix}\n",
    "y_1 \\\\\n",
    "y_2 \\\\\n",
    "y_3\n",
    "\\end{pmatrix}\n",
    "$$\n",
    "The variables are decoupled, so the inverse is\n",
    "$$\n",
    "\\begin{pmatrix}\n",
    "a^{-1} & 0 & 0 \\\\\n",
    "0 & b^{-1} & 0 \\\\\n",
    "0 & 0 & c^{-1}\n",
    "\\end{pmatrix}\n",
    "$$\n"
   ]
  },
  {
   "cell_type": "code",
   "execution_count": 1,
   "metadata": {},
   "outputs": [],
   "source": [
    "import numpy as np\n",
    "from scipy.optimize import minimize\n",
    "import matplotlib.pyplot as plt\n",
    "\n",
    "%matplotlib inline"
   ]
  },
  {
   "cell_type": "markdown",
   "metadata": {},
   "source": [
    "###  Definition\n",
    "\n",
    "Any matrix $A$ can be writen as the product of three matrices,\n",
    "$$A = U\\Sigma V^*$$\n",
    "where $U$ and $V$ are unitary matrices and $\\Sigma$ is a diagonal matrix.\n",
    "\n",
    "We are interested in solving the system,\n",
    "$$Ax = b$$\n",
    "where $A$ is a square matrix.\n",
    "\n",
    "We can rewrite this as:\n",
    "$$U\\Sigma V^* x = b$$\n",
    "\n",
    "Solving this is simple since $U$ and $V$ are unitary, and $\\Sigma$ is diagonal.\n",
    "\n",
    "$$x = V \\Sigma^{-1} U^* b$$\n",
    "\n",
    "For example:"
   ]
  },
  {
   "cell_type": "code",
   "execution_count": 2,
   "metadata": {},
   "outputs": [
    {
     "name": "stdout",
     "output_type": "stream",
     "text": [
      "[-2.6384236  -3.59459038  0.14129786]\n",
      "[-2.6384236  -3.59459038  0.14129786]\n"
     ]
    }
   ],
   "source": [
    "np.random.seed(2)\n",
    "\n",
    "#  Generate a square matrix\n",
    "A = np.random.normal( size=(3, 3))\n",
    "\n",
    "#  Make a vector of known values\n",
    "b = np.array([1,2,3])\n",
    "\n",
    "#  Calculate the SVD\n",
    "U, S, Vt = np.linalg.svd(A, full_matrices=False)\n",
    "\n",
    "#  Solve the system\n",
    "x = Vt.T @ np.diag(1/S, 0) @ U.T @ b\n",
    "print(x)\n",
    "\n",
    "#  Let's compare this with the results we get from the canned routine in Numpy\n",
    "#  This uses an LU decomposition\n",
    "print(np.linalg.solve(A, b))"
   ]
  },
  {
   "cell_type": "markdown",
   "metadata": {},
   "source": [
    "<b>Note</b>: The @ operator can be used as a shorthand for np.matmul on ndarrays<br><br>\n",
    "Now we use SVD to solve systems of equation. There are two cases, overdetermined and underdetermined system."
   ]
  },
  {
   "cell_type": "markdown",
   "metadata": {},
   "source": [
    "##  Overdetermined Systems\n",
    "\n",
    "What happens if we use the SVD to \"solve\" an overdetermined system?\n",
    "\n",
    "Let's look at how such a system might arise, linear regression."
   ]
  },
  {
   "cell_type": "code",
   "execution_count": 3,
   "metadata": {},
   "outputs": [],
   "source": [
    "#  Generate some data\n",
    "np.random.seed(23)\n",
    "x = np.array([0, 2, 4, 6, 8, 10])\n",
    "y = -0.75 * x + 1 + np.random.normal( size=x.shape )"
   ]
  },
  {
   "cell_type": "markdown",
   "metadata": {},
   "source": [
    "Let's plot the data and do a linear regression"
   ]
  },
  {
   "cell_type": "code",
   "execution_count": 4,
   "metadata": {},
   "outputs": [
    {
     "name": "stdout",
     "output_type": "stream",
     "text": [
      "Slope =  -0.8190931246410348\n",
      "Intercept =  1.4311999194490521\n"
     ]
    },
    {
     "data": {
      "image/png": "[encoded data removed]",
      "text/plain": [
       "<Figure size 432x288 with 1 Axes>"
      ]
     },
     "metadata": {
      "needs_background": "light"
     },
     "output_type": "display_data"
    }
   ],
   "source": [
    "#  Plot the data\n",
    "plt.plot(x, y, 'o')\n",
    "plt.grid(True)\n",
    "\n",
    "#  Do the regression and plot the line\n",
    "coefs =  np.polyfit(x, y, 1)\n",
    "\n",
    "#  Plot the regression line\n",
    "plt.plot(x, np.polyval(coefs, x), 'k')\n",
    "\n",
    "# Print the regression coefficients\n",
    "print('Slope = ', coefs[0])\n",
    "print('Intercept = ', coefs[1])"
   ]
  },
  {
   "cell_type": "markdown",
   "metadata": {},
   "source": [
    "We want to find a value for $\\alpha$ and $\\beta$ that satisfy,\n",
    "$$\n",
    "\\begin{array}{lll}\n",
    "y_1 & = & \\beta x_1 + \\alpha \\\\\n",
    "y_2 & = & \\beta x_2 + \\alpha \\\\ \n",
    "y_3 & = & \\beta x_3 + \\alpha \\\\\n",
    "y_4 & = & \\beta x_4 + \\alpha \\\\\n",
    "y_5 & = & \\beta x_5 + \\alpha \\\\\n",
    "y_6 & = & \\beta x_6 + \\alpha\n",
    "\\end{array}\n",
    "$$\n",
    "\n",
    "In matrix form, \n",
    "$$\n",
    "\\begin{pmatrix}\n",
    "x_1 & 1 \\\\\n",
    "x_2 & 1 \\\\\n",
    "x_3 & 1 \\\\\n",
    "x_4 & 1 \\\\\n",
    "x_5 & 1 \\\\\n",
    "x_6 & 1\n",
    "\\end{pmatrix}\n",
    "\\begin{pmatrix}\n",
    "\\beta \\\\\n",
    "\\alpha\n",
    "\\end{pmatrix} = \n",
    "\\begin{pmatrix}\n",
    "y_1 \\\\\n",
    "y_2 \\\\\n",
    "y_3 \\\\\n",
    "y_4 \\\\\n",
    "y_5 \\\\\n",
    "y_6\n",
    "\\end{pmatrix}\n",
    "$$\n",
    "\n",
    "This system has no solution.  There are too many constraints for the number of unknowns we have.\n",
    "\n",
    "But since we can calculate the SVD for any matrix, what happens if we use the above technique on our overdetermined system?"
   ]
  },
  {
   "cell_type": "markdown",
   "metadata": {},
   "source": [
    "![Image](https://slideplayer.com/slide/4598475/15/images/31/SVD+for+Overdetermined+Problems.jpg)"
   ]
  },
  {
   "cell_type": "code",
   "execution_count": 5,
   "metadata": {},
   "outputs": [
    {
     "name": "stdout",
     "output_type": "stream",
     "text": [
      "[[-0.81909312]\n",
      " [ 1.43119992]]\n",
      "[[-0.81909312]\n",
      " [ 1.43119992]]\n"
     ]
    }
   ],
   "source": [
    "#  x and y need to be column vectors\n",
    "x.shape = (x.size, 1)\n",
    "y.shape = (y.size, 1)\n",
    "\n",
    "#  Define our rectangular matrix\n",
    "A = np.hstack( (x, np.ones((x.size, 1))))\n",
    "\n",
    "#  Calculate the SVD\n",
    "U,S, Vt = np.linalg.svd(A, full_matrices=False)\n",
    "\n",
    "#  Notice the nubers we get out of this is the same as our regression coefficients\n",
    "X = Vt.T @ np.diag(1/S, 0) @ U.T @ y\n",
    "print(X)\n",
    "\n",
    "#  There is a built in command to do the same thing.\n",
    "print(np.linalg.pinv(A) @ y)"
   ]
  },
  {
   "cell_type": "markdown",
   "metadata": {},
   "source": [
    "In the overdetermined case, the pseudoinverse minimizes the L2 norm of the error.\n",
    "## $$\n",
    "\\min\\|Ax - y\\|_2\n",
    "$$"
   ]
  },
  {
   "cell_type": "markdown",
   "metadata": {},
   "source": [
    "##  Underdetermined System\n",
    "\n",
    "What happens in the underdetermined case where the are infinite number of solutions?"
   ]
  },
  {
   "cell_type": "code",
   "execution_count": 6,
   "metadata": {},
   "outputs": [
    {
     "name": "stdout",
     "output_type": "stream",
     "text": [
      "[[ 0.02380223]\n",
      " [ 1.83952202]\n",
      " [ 0.37103156]\n",
      " [-0.60092682]\n",
      " [ 0.43531696]]\n"
     ]
    }
   ],
   "source": [
    "#  Generate a matrix\n",
    "np.random.seed(2)\n",
    "A = np.random.random( size = (5, 3) ) \n",
    "b = np.random.random( size = (3, 1) )\n",
    "A = A.T\n",
    "\n",
    "#  Do the SVD\n",
    "U, S, Vt = np.linalg.svd(A, full_matrices=False)\n",
    "\n",
    "#  Apply the pseudoinverse\n",
    "X = Vt.T @ np.diag(1/S, 0) @ U.T @ b\n",
    "print(X)"
   ]
  },
  {
   "cell_type": "markdown",
   "metadata": {},
   "source": [
    "Another way"
   ]
  },
  {
   "cell_type": "code",
   "execution_count": 7,
   "metadata": {},
   "outputs": [
    {
     "name": "stderr",
     "output_type": "stream",
     "text": [
      "<ipython-input-7-2edcce25bf3c>:1: FutureWarning: `rcond` parameter will change to the default of machine precision times ``max(M, N)`` where M and N are the input matrix dimensions.\n",
      "To use the future default and silence this warning we advise to pass `rcond=None`, to keep using the old, explicitly pass `rcond=-1`.\n",
      "  np.linalg.lstsq(A, b)\n"
     ]
    },
    {
     "data": {
      "text/plain": [
       "(array([[ 0.02380223],\n",
       "        [ 1.83952202],\n",
       "        [ 0.37103156],\n",
       "        [-0.60092682],\n",
       "        [ 0.43531696]]),\n",
       " array([], dtype=float64),\n",
       " 3,\n",
       " array([1.48164368, 0.55642332, 0.17723327]))"
      ]
     },
     "execution_count": 7,
     "metadata": {},
     "output_type": "execute_result"
    }
   ],
   "source": [
    "np.linalg.lstsq(A, b)"
   ]
  },
  {
   "cell_type": "code",
   "execution_count": null,
   "metadata": {},
   "outputs": [],
   "source": []
  }
 ],
 "metadata": {
  "kernelspec": {
   "display_name": "Python 3",
   "language": "python",
   "name": "python3"
  },
  "language_info": {
   "codemirror_mode": {
    "name": "ipython",
    "version": 3
   },
   "file_extension": ".py",
   "mimetype": "text/x-python",
   "name": "python",
   "nbconvert_exporter": "python",
   "pygments_lexer": "ipython3",
   "version": "3.8.3"
  }
 },
 "nbformat": 4,
 "nbformat_minor": 4
}
