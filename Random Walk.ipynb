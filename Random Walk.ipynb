{
 "cells": [
  {
   "cell_type": "markdown",
   "metadata": {},
   "source": [
    "# Random Walk\n",
    "Assume that the map is a grid and you walk randomly along the grid. You can either move North, South, East, West.<br>\n",
    "<b>Problem</b>: What is the longest random walk you can take so that $\\textit{on average}$ you will end up 4 blocks or fewer from home? In other word, there is less than 50% chance that you have to pay a transport to come back home"
   ]
  },
  {
   "cell_type": "markdown",
   "metadata": {},
   "source": [
    "## Version 1: Simple Version"
   ]
  },
  {
   "cell_type": "code",
   "execution_count": 2,
   "metadata": {},
   "outputs": [],
   "source": [
    "import random\n",
    "\n",
    "def random_walk(n):\n",
    "    \"\"\"Return coordinates after 'n' block random walk\"\"\"\n",
    "    x = 0\n",
    "    y = 0\n",
    "    for i in range(n):\n",
    "        step = random.choice(['N', 'S', 'E', 'W'])\n",
    "        if step == 'N':\n",
    "            y += 1\n",
    "        elif step == 'S':\n",
    "            y -= 1\n",
    "        elif step == 'E':\n",
    "            x += 1\n",
    "        else:\n",
    "            x -= 1\n",
    "    return (x, y)"
   ]
  },
  {
   "cell_type": "code",
   "execution_count": 6,
   "metadata": {},
   "outputs": [
    {
     "name": "stdout",
     "output_type": "stream",
     "text": [
      "(-1, -1) The distance from home is:  2\n",
      "(-3, 3) The distance from home is:  6\n",
      "(1, -1) The distance from home is:  2\n",
      "(-3, -1) The distance from home is:  4\n",
      "(1, -1) The distance from home is:  2\n",
      "(-2, 2) The distance from home is:  4\n",
      "(4, 2) The distance from home is:  6\n",
      "(-2, -4) The distance from home is:  6\n",
      "(3, -1) The distance from home is:  4\n",
      "(-2, 2) The distance from home is:  4\n",
      "(4, 0) The distance from home is:  4\n",
      "(-1, -1) The distance from home is:  2\n",
      "(-5, 1) The distance from home is:  6\n",
      "(-1, 3) The distance from home is:  4\n",
      "(-2, 4) The distance from home is:  6\n",
      "(-1, 1) The distance from home is:  2\n",
      "(-2, 2) The distance from home is:  4\n",
      "(-4, 2) The distance from home is:  6\n",
      "(0, 2) The distance from home is:  2\n",
      "(3, -3) The distance from home is:  6\n",
      "(-2, 0) The distance from home is:  2\n",
      "(2, -2) The distance from home is:  4\n",
      "(-3, 3) The distance from home is:  6\n",
      "(1, 1) The distance from home is:  2\n",
      "(-2, -4) The distance from home is:  6\n"
     ]
    }
   ],
   "source": [
    "# 25 random walks, each takes 10 blocks long\n",
    "for i in range(25):\n",
    "    walk = random_walk(10)\n",
    "    print(walk, \"The distance from home is: \", abs(walk[0]) + abs(walk[1])) # because the map is a grid"
   ]
  },
  {
   "cell_type": "markdown",
   "metadata": {},
   "source": [
    "## Version 2: A shorter version"
   ]
  },
  {
   "cell_type": "code",
   "execution_count": 22,
   "metadata": {},
   "outputs": [],
   "source": [
    "def random_walk_2(n) -> tuple:\n",
    "    x, y = 0, 0\n",
    "    for i in range(n):\n",
    "        dx, dy = random.choice([(0, 1), (0, -1), (1, 0), (-1, 0)])\n",
    "        x += dx\n",
    "        y += dy\n",
    "    return (x, y)"
   ]
  },
  {
   "cell_type": "code",
   "execution_count": 8,
   "metadata": {},
   "outputs": [
    {
     "name": "stdout",
     "output_type": "stream",
     "text": [
      "(0, -2) The distance from home is:  2\n",
      "(1, 1) The distance from home is:  2\n",
      "(-1, 1) The distance from home is:  2\n",
      "(2, 2) The distance from home is:  4\n",
      "(1, -1) The distance from home is:  2\n",
      "(-1, 5) The distance from home is:  6\n",
      "(2, 0) The distance from home is:  2\n",
      "(0, 0) The distance from home is:  0\n",
      "(1, 3) The distance from home is:  4\n",
      "(4, 2) The distance from home is:  6\n",
      "(-1, 1) The distance from home is:  2\n",
      "(-1, -1) The distance from home is:  2\n",
      "(2, -2) The distance from home is:  4\n",
      "(2, 0) The distance from home is:  2\n",
      "(0, -2) The distance from home is:  2\n",
      "(-1, 1) The distance from home is:  2\n",
      "(1, 1) The distance from home is:  2\n",
      "(-1, -1) The distance from home is:  2\n",
      "(1, 1) The distance from home is:  2\n",
      "(0, 2) The distance from home is:  2\n",
      "(4, -2) The distance from home is:  6\n",
      "(-1, 3) The distance from home is:  4\n",
      "(0, -2) The distance from home is:  2\n",
      "(-1, -3) The distance from home is:  4\n",
      "(-3, -3) The distance from home is:  6\n"
     ]
    }
   ],
   "source": [
    "# 25 random walks, each takes 10 blocks long\n",
    "for i in range(25):\n",
    "    walk = random_walk(10)\n",
    "    print(walk, \"The distance from home is: \", abs(walk[0]) + abs(walk[1])) # because the map is a grid"
   ]
  },
  {
   "cell_type": "markdown",
   "metadata": {},
   "source": [
    "### We use Monte Carlo method to solve this problem"
   ]
  },
  {
   "cell_type": "code",
   "execution_count": 24,
   "metadata": {},
   "outputs": [
    {
     "name": "stdout",
     "output_type": "stream",
     "text": [
      "1 100.0\n",
      "2 100.0\n",
      "3 100.0\n",
      "4 100.0\n",
      "5 87.866\n",
      "6 93.872\n",
      "7 76.55199999999999\n",
      "8 86.485\n",
      "9 67.279\n",
      "10 79.527\n",
      "11 59.857000000000006\n",
      "12 73.10799999999999\n",
      "13 53.52400000000001\n",
      "14 67.508\n",
      "15 48.86\n",
      "16 62.633\n",
      "17 44.779\n",
      "18 57.665\n",
      "19 41.231\n",
      "20 54.113\n",
      "21 38.095\n",
      "22 51.247\n",
      "23 35.433\n",
      "24 47.94\n",
      "25 33.334\n",
      "26 45.503\n",
      "27 31.048\n",
      "28 42.977\n",
      "29 29.506\n",
      "30 40.785\n"
     ]
    }
   ],
   "source": [
    "number_of_walks = 100000\n",
    "for walk_length in range(1, 31):\n",
    "    no_transport = 0 # Number of walk 4 or fewer blocks from home\n",
    "    for i in range(number_of_walks):\n",
    "        x, y = random_walk_2(walk_length)\n",
    "        distance = abs(x) + abs(y)\n",
    "        if distance <= 4:\n",
    "            no_transport += 1\n",
    "    no_transport_percentage = float(no_transport) / number_of_walks\n",
    "    print(walk_length, 100 * no_transport_percentage)"
   ]
  },
  {
   "cell_type": "markdown",
   "metadata": {},
   "source": [
    "<b><i> ==> Observe that walk length of even number leads you closer to home than odd number"
   ]
  },
  {
   "cell_type": "code",
   "execution_count": null,
   "metadata": {},
   "outputs": [],
   "source": []
  }
 ],
 "metadata": {
  "kernelspec": {
   "display_name": "Python 3",
   "language": "python",
   "name": "python3"
  },
  "language_info": {
   "codemirror_mode": {
    "name": "ipython",
    "version": 3
   },
   "file_extension": ".py",
   "mimetype": "text/x-python",
   "name": "python",
   "nbconvert_exporter": "python",
   "pygments_lexer": "ipython3",
   "version": "3.8.3"
  }
 },
 "nbformat": 4,
 "nbformat_minor": 4
}
