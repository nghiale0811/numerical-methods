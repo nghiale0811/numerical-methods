{
 "cells": [
  {
   "cell_type": "markdown",
   "metadata": {},
   "source": [
    "# Implied Volatility with Newton Method"
   ]
  },
  {
   "cell_type": "markdown",
   "metadata": {},
   "source": [
    "Implied volatility is an important component in the Black-Scholes equation. We use a root finding method, particularly Newton-Ralphson method, to calculate implied volatility"
   ]
  },
  {
   "cell_type": "markdown",
   "metadata": {},
   "source": [
    "![Image](https://image.slidesharecdn.com/newtonraphson-141211083259-conversion-gate02/95/newton-raphson-method-3-638.jpg?cb=1418286911)"
   ]
  },
  {
   "cell_type": "markdown",
   "metadata": {},
   "source": [
    "![Image](https://4.bp.blogspot.com/--J5wpTff4I8/WWGCY58yCzI/AAAAAAAAB7w/iM6YFt0io68FI5dtPbgUqeBxvBGU8YuiACLcBGAs/s400/implied_volatility.png)"
   ]
  },
  {
   "cell_type": "markdown",
   "metadata": {},
   "source": [
    "### Formula:\n",
    "$$\\sigma_{new} = \\sigma_{old} - \\frac{BS(\\sigma_{old}) - C_m}{C'(\\sigma_{old})}$$\n",
    "<br>\n",
    "$C'(\\sigma_{old})$ = Vega<br>\n",
    "$C_m$ is the current market price"
   ]
  },
  {
   "cell_type": "code",
   "execution_count": 17,
   "metadata": {},
   "outputs": [],
   "source": [
    "from py_vollib.black_scholes import black_scholes as bs\n",
    "from py_vollib.black_scholes.greeks.analytical import vega"
   ]
  },
  {
   "cell_type": "code",
   "execution_count": 18,
   "metadata": {},
   "outputs": [],
   "source": [
    "def implied_vol(S0, K, T, r, market_price, flag='c', tol=0.00001): #tolerance\n",
    "    \"\"\"Calculating the implied volatility of an European option\n",
    "        S0: stock price\n",
    "        K: strike price\n",
    "        T: time to maturity\n",
    "        r: risk-free rate\n",
    "        market_price: option price in market\n",
    "    \"\"\"\n",
    "    max_iter = 200 #max no. of iterations\n",
    "    vol_old = 0.3 #initial guess \n",
    "\n",
    "    for k in range(max_iter):\n",
    "        bs_price = bs(flag, S0, K, T, r, vol_old)\n",
    "        Cprime = vega(flag, S0, K, T, r, vol_old) * 100\n",
    "        C = bs_price - market_price\n",
    "\n",
    "        #newton method\n",
    "        vol_new = vol_old - C/Cprime\n",
    "        new_bs_price = bs(flag, S0, K, T, r, vol_new)\n",
    "        if (abs(vol_old-vol_new) < tol or abs(new_bs_price-market_price) < tol):\n",
    "            break\n",
    "\n",
    "        vol_old = vol_new\n",
    "\n",
    "    implied_vol = vol_new\n",
    "    return implied_vol"
   ]
  },
  {
   "cell_type": "code",
   "execution_count": 19,
   "metadata": {},
   "outputs": [
    {
     "name": "stdout",
     "output_type": "stream",
     "text": [
      "19.106898515271837\n"
     ]
    }
   ],
   "source": [
    "S0, K, T, r = 30, 28, 0.5, 0.025\n",
    "market_price = 3\n",
    "print(implied_vol(S0, K, T, r, market_price) * 100)"
   ]
  },
  {
   "cell_type": "markdown",
   "metadata": {},
   "source": [
    "<b>Note</b>: divided by zero errors means the value is not in the range of the Black Scholes equation"
   ]
  },
  {
   "cell_type": "code",
   "execution_count": null,
   "metadata": {},
   "outputs": [],
   "source": []
  }
 ],
 "metadata": {
  "kernelspec": {
   "display_name": "Python 3",
   "language": "python",
   "name": "python3"
  },
  "language_info": {
   "codemirror_mode": {
    "name": "ipython",
    "version": 3
   },
   "file_extension": ".py",
   "mimetype": "text/x-python",
   "name": "python",
   "nbconvert_exporter": "python",
   "pygments_lexer": "ipython3",
   "version": "3.8.3"
  }
 },
 "nbformat": 4,
 "nbformat_minor": 4
}
