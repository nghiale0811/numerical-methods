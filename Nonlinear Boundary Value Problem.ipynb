{
 "cells": [
  {
   "cell_type": "markdown",
   "metadata": {},
   "source": [
    "# Nonlinear Boundary Value Problem"
   ]
  },
  {
   "cell_type": "markdown",
   "metadata": {},
   "source": [
    "#  Problems\n",
    "We will look at the linear equation,\n",
    "\n",
    "$$\\frac{d^2 y}{dx^2} + y = 0$$\n",
    "with $y(0) = 1$ and $y(\\pi / 2) = 0$\n",
    "\n",
    "We will also look at the nonlinear equation, \n",
    "\n",
    "$$\\frac{d^{2}y}{dx^2} + y^3 = 0,$$\n",
    "with $y(0) = 1$, and $y(\\pi/2) = 0$."
   ]
  },
  {
   "cell_type": "code",
   "execution_count": 2,
   "metadata": {},
   "outputs": [],
   "source": [
    "import numpy as np\n",
    "import matplotlib.pyplot as plt\n",
    "from scipy.optimize import fsolve\n",
    "from scipy.integrate import solve_ivp\n",
    "from scipy.sparse import spdiags, eye\n",
    "from scipy.sparse.linalg import spsolve\n",
    "\n",
    "%matplotlib inline"
   ]
  },
  {
   "cell_type": "markdown",
   "metadata": {},
   "source": [
    "## Linear Case\n",
    "\n",
    "Finite difference approximation for the second derivative\n",
    "$$\\frac{d^2y}{dx^2} \\approx \\frac{y_{i-1} -2y_i + y_{i+1}}{\\Delta^2}$$\n",
    "where $\\Delta$ is the grid spacing.\n",
    "![Image](https://slideplayer.com/slide/5132220/16/images/8/The+second-order+approximation%3A.jpg)"
   ]
  },
  {
   "cell_type": "markdown",
   "metadata": {},
   "source": [
    "So our equation can be transformed to a system of algebraic equations:\n",
    "$$\\frac{y_{i-1} -2y_i + y_{i+1}}{\\Delta^2} + y_i = 0$$\n",
    "\n",
    "\n",
    "For example,\n",
    "$$\n",
    "\\begin{align*}\n",
    "y_1 & = & 1 \\\\\n",
    "\\frac{y_1 -2y_2 + y_3}{\\Delta^2} + y_2  &= & 0 \\\\\n",
    "\\frac{y_2 -2y_3 + y_4}{\\Delta^2} + y_3  &= & 0 \\\\\n",
    "\\frac{y_3 -2y_4 + y_5}{\\Delta^2} + y_4  &= & 0 \\\\\n",
    "\\frac{y_4 -2y_5 + y_6}{\\Delta^2} + y_5  &= & 0 \\\\\n",
    "y_6 & = & 0 \n",
    "\\end{align*}\n",
    "$$\n",
    "\n",
    "Or in matrix form,\n",
    "\n",
    "$$\n",
    "\\frac{1}{\\Delta^2}\n",
    "\\begin{pmatrix}\n",
    "0 & 0 & 0 & 0 & 0 & 0 \\\\\n",
    "1 & -2 & 1 & 0 & 0 & 0 \\\\\n",
    "0 & 1 & -2 & 1 & 0 & 0 \\\\\n",
    "0 & 0 & 1 & -2 & 1 & 0  \\\\\n",
    "0 & 0 & 0 & 1 & -2 & 1  \\\\\n",
    "0 & 0 & 0 & 0 & 0 & 0\n",
    "\\end{pmatrix} \n",
    "\\begin{pmatrix}\n",
    "y_1 \\\\\n",
    "y_2 \\\\\n",
    "y_3 \\\\\n",
    "y_4 \\\\\n",
    "y_5 \\\\\n",
    "y_6\n",
    "\\end{pmatrix}+ \n",
    "\\begin{pmatrix}\n",
    "1 & 0 & 0 & 0 & 0 & 0 \\\\\n",
    "0 & 1 & 0 & 0 & 0 & 0 \\\\\n",
    "0 & 0 & 1 & 0 & 0 & 0 \\\\\n",
    "0 & 0 & 0 & 1 & 0 & 0 \\\\\n",
    "0 & 0 & 0 & 0 & 1 & 0 \\\\\n",
    "0 & 0 & 0 & 0 & 0 & 1\n",
    "\\end{pmatrix}\n",
    "\\begin{pmatrix}\n",
    "y_1 \\\\\n",
    "y_2 \\\\\n",
    "y_3 \\\\\n",
    "y_4 \\\\\n",
    "y_5 \\\\\n",
    "y_6\n",
    "\\end{pmatrix}= \n",
    "\\begin{pmatrix}\n",
    "1 \\\\\n",
    "0 \\\\\n",
    "0 \\\\\n",
    "0 \\\\\n",
    "0 \\\\\n",
    "0 \\\\\n",
    "\\end{pmatrix}\n",
    "$$\n",
    "\n",
    "\n",
    "Factoring out the column vector,\n",
    "$$\n",
    "\\left[\n",
    "\\frac{1}{\\Delta^2}\n",
    "\\begin{pmatrix}\n",
    "0 & 0 & 0 & 0 & 0 & 0 \\\\\n",
    "1 & -2 & 1 & 0 & 0 & 0 \\\\\n",
    "0 & 1 & -2 & 1 & 0 & 0 \\\\\n",
    "0 & 0 & 1 & -2 & 1 & 0  \\\\\n",
    "0 & 0 & 0 & 1 & -2 & 1  \\\\\n",
    "0 & 0 & 0 & 0 & 0 & 0\n",
    "\\end{pmatrix} \n",
    "+ \n",
    "\\begin{pmatrix}\n",
    "1 & 0 & 0 & 0 & 0 & 0 \\\\\n",
    "0 & 1 & 0 & 0 & 0 & 0 \\\\\n",
    "0 & 0 & 1 & 0 & 0 & 0 \\\\\n",
    "0 & 0 & 0 & 1 & 0 & 0 \\\\\n",
    "0 & 0 & 0 & 0 & 1 & 0 \\\\\n",
    "0 & 0 & 0 & 0 & 0 & 1\n",
    "\\end{pmatrix} \\right]\\quad\n",
    "\\begin{pmatrix}\n",
    "y_1 \\\\\n",
    "y_2 \\\\\n",
    "y_3 \\\\\n",
    "y_4 \\\\\n",
    "y_5 \\\\\n",
    "y_6\n",
    "\\end{pmatrix}= \n",
    "\\begin{pmatrix}\n",
    "1 \\\\\n",
    "0 \\\\\n",
    "0 \\\\\n",
    "0 \\\\\n",
    "0 \\\\\n",
    "0 \\\\\n",
    "\\end{pmatrix}\n",
    "$$"
   ]
  },
  {
   "cell_type": "code",
   "execution_count": 3,
   "metadata": {},
   "outputs": [],
   "source": [
    "#  Set the number of grid points, define our x-values and working out the grid spacing\n",
    "N = 10000\n",
    "x = np.linspace(0, np.pi/2, N)\n",
    "Delta = np.diff(x); Delta = Delta[0]\n",
    "\n",
    "#  Define the values that will go into our derivative matrix\n",
    "temp = [np.ones(x.size), -2 * np.ones(x.size), np.ones(x.size)]\n",
    "\n",
    "#  Build the second derivative matrix\n",
    "D2 = spdiags(temp, [-1, 0, 1], x.size, x.size, format = 'csc')\n",
    "\n",
    "#  For the y-term in the ODE, we need only the identity matrix\n",
    "E = eye(x.size, format = 'csc') #Sparse matrix with ones on diagonal\n",
    "\n",
    "#  Build matrix equation\n",
    "M = D2/Delta**2 + E\n",
    "M[0,0] = 1; M[0,1] = 0; M[-1, -2] = 0; M[-1, -1] = 1\n",
    "\n",
    "#   This is the vector of knowns.  It is the right-hand side of the equation above.\n",
    "knowns = np.zeros(x.size); knowns[0] = 1\n",
    "\n",
    "#  Solve the system\n",
    "y = spsolve(M, knowns)"
   ]
  },
  {
   "cell_type": "code",
   "execution_count": 4,
   "metadata": {},
   "outputs": [
    {
     "data": {
      "text/plain": [
       "[<matplotlib.lines.Line2D at 0x12d9ec1b580>]"
      ]
     },
     "execution_count": 4,
     "metadata": {},
     "output_type": "execute_result"
    },
    {
     "data": {
      "image/png": "[encoded data removed]",
      "text/plain": [
       "<Figure size 432x288 with 1 Axes>"
      ]
     },
     "metadata": {
      "needs_background": "light"
     },
     "output_type": "display_data"
    }
   ],
   "source": [
    "#  Plot the results\n",
    "plt.plot(x, y, 'k')"
   ]
  },
  {
   "cell_type": "markdown",
   "metadata": {},
   "source": [
    "##  Nonlinear Problem\n",
    "\n",
    "Now we have a look at the second equation.<br>\n",
    "In matrix form we have,\n",
    "$$\n",
    "\\frac{1}{\\Delta^2}\n",
    "\\begin{pmatrix}\n",
    "0 & 0 & 0 & 0 & 0 & 0 \\\\\n",
    "1 & -2 & 1 & 0 & 0 & 0 \\\\\n",
    "0 & 1 & -2 & 1 & 0 & 0 \\\\\n",
    "0 & 0 & 1 & -2 & 1 & 0  \\\\\n",
    "0 & 0 & 0 & 1 & -2 & 1  \\\\\n",
    "0 & 0 & 0 & 0 & 0 & 0\n",
    "\\end{pmatrix} \n",
    "\\begin{pmatrix}\n",
    "y_1 \\\\\n",
    "y_2 \\\\\n",
    "y_3 \\\\\n",
    "y_4 \\\\\n",
    "y_5 \\\\\n",
    "y_6\n",
    "\\end{pmatrix}+ \n",
    "\\begin{pmatrix}\n",
    "1 & 0 & 0 & 0 & 0 & 0 \\\\\n",
    "0 & 1 & 0 & 0 & 0 & 0 \\\\\n",
    "0 & 0 & 1 & 0 & 0 & 0 \\\\\n",
    "0 & 0 & 0 & 1 & 0 & 0 \\\\\n",
    "0 & 0 & 0 & 0 & 1 & 0 \\\\\n",
    "0 & 0 & 0 & 0 & 0 & 1\n",
    "\\end{pmatrix}\n",
    "\\begin{pmatrix}\n",
    "y_1^3 \\\\\n",
    "y_2^3 \\\\\n",
    "y_3^3 \\\\\n",
    "y_4^3 \\\\\n",
    "y_5^3 \\\\\n",
    "y_6^3\n",
    "\\end{pmatrix} -\n",
    "\\begin{pmatrix}\n",
    "1 \\\\\n",
    "0 \\\\\n",
    "0 \\\\\n",
    "0 \\\\\n",
    "0 \\\\\n",
    "0 \\\\\n",
    "\\end{pmatrix} = 0.\n",
    "$$\n",
    "\n",
    "Note how we can no longer solve the system with simple matrix inverses.\n",
    "\n",
    "### fsolve\n",
    "Scipy and MATLAB both have a function <i>fsolve</i> which solves problems of the form\n",
    "$$f(x) = 0.$$\n",
    "\n",
    "We can construct or equations using sparse matrices and use fsolve to get the solution."
   ]
  },
  {
   "cell_type": "code",
   "execution_count": 5,
   "metadata": {},
   "outputs": [],
   "source": [
    "class Nonlinear:\n",
    "    \n",
    "    def __init__(self):\n",
    "        #  Numer of grid points, our x-values and the grid spacing\n",
    "        self.N = 1000\n",
    "        self.x = np.linspace(0, np.pi/2, self.N)\n",
    "        self.Delta = np.diff(self.x); self.Delta = self.Delta[0]\n",
    "        \n",
    "        #  Terms needed for the second derivative matrix\n",
    "        temp = [np.ones( self.x.size), -2 * np.ones(self.x.size), np.ones(self.x.size)]\n",
    "\n",
    "        #  Build the second derivative matrix\n",
    "        self.D2 = spdiags(temp, [-1, 0, 1], self.x.size, self.x.size, format = 'csc')\n",
    "        self.D2 = self.D2 / self.Delta**2\n",
    "        \n",
    "        #  We still need the identity for the y-subed term\n",
    "        self.E = eye(self.x.size, format = 'csc')\n",
    "        \n",
    "        #  Vector of knows\n",
    "        self.knowns = np.zeros(self.x.size); self.knowns[0] = 1; self.knowns[-1] = 0\n",
    "        \n",
    "        #  Call fsolve.  This uses the Jacobian\n",
    "        self.y = fsolve(self.equation, 0.5 * np.ones(self.x.size), fprime = self.jacobian)\n",
    "        \n",
    "    def equation(self, y):\n",
    "        #  The equations approximating our differential equation\n",
    "        M = self.D2 @ y + self.E @ y**3\n",
    "        M[0] = y[0] - self.knowns[0]; M[-1] = y[-1] - self.knowns[-1]\n",
    "\n",
    "        res = M - self.knowns\n",
    "        res[0] = y[0] - self.knowns[0]\n",
    "        res[-1] = y[-1] - self.knowns[-1]\n",
    "        \n",
    "        return res\n",
    "    \n",
    "    def jacobian(self, y):\n",
    "        #  Calculate the Jacobian\n",
    "        jacobian = self.D2 + spdiags(3 * np.square(y), 0, y.size, y.size, format='csc')\n",
    "        \n",
    "        jacobian[-1, -1] = 1\n",
    "        jacobian[-1, -2] = 0\n",
    "        jacobian[0,0] = 1\n",
    "        jacobian[0,1] = 0\n",
    "              \n",
    "        return jacobian.toarray()"
   ]
  },
  {
   "cell_type": "code",
   "execution_count": 6,
   "metadata": {},
   "outputs": [
    {
     "data": {
      "text/plain": [
       "[<matplotlib.lines.Line2D at 0x12d9ecaeeb0>]"
      ]
     },
     "execution_count": 6,
     "metadata": {},
     "output_type": "execute_result"
    },
    {
     "data": {
      "image/png": "[encoded data removed]",
      "text/plain": [
       "<Figure size 432x288 with 1 Axes>"
      ]
     },
     "metadata": {
      "needs_background": "light"
     },
     "output_type": "display_data"
    }
   ],
   "source": [
    "#  Solve the system and plot the results\n",
    "a = Nonlinear()\n",
    "plt.plot(a.x, a.y, 'k')"
   ]
  },
  {
   "cell_type": "code",
   "execution_count": null,
   "metadata": {},
   "outputs": [],
   "source": []
  }
 ],
 "metadata": {
  "kernelspec": {
   "display_name": "Python 3",
   "language": "python",
   "name": "python3"
  },
  "language_info": {
   "codemirror_mode": {
    "name": "ipython",
    "version": 3
   },
   "file_extension": ".py",
   "mimetype": "text/x-python",
   "name": "python",
   "nbconvert_exporter": "python",
   "pygments_lexer": "ipython3",
   "version": "3.8.3"
  }
 },
 "nbformat": 4,
 "nbformat_minor": 5
}
